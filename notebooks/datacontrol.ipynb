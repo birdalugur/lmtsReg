{
 "cells": [
  {
   "cell_type": "code",
   "execution_count": null,
   "metadata": {},
   "outputs": [],
   "source": [
    "import ipynb\n",
    "import data\n",
    "import pandas as pd\n",
    "import pandas.tseries.offsets as offset\n",
    "\n",
    "\n",
    "from IPython.core.interactiveshell import InteractiveShell\n",
    "InteractiveShell.ast_node_interactivity = \"all\""
   ]
  },
  {
   "cell_type": "code",
   "execution_count": null,
   "metadata": {},
   "outputs": [],
   "source": [
    "def date_control(x):\n",
    "    dates = x.dropna().index.to_series()\n",
    "\n",
    "    start = dates.diff() !=1\n",
    "\n",
    "    end = dates.shift(-1)-dates != 1\n",
    "\n",
    "    start = dates[start].values\n",
    "    end = dates[end].values\n",
    "\n",
    "    return list(zip(start,end))"
   ]
  },
  {
   "cell_type": "code",
   "execution_count": null,
   "metadata": {},
   "outputs": [],
   "source": [
    "def date_control_quarter(x):\n",
    "    dates = x.dropna().index.to_series()\n",
    "\n",
    "    start = dates.diff() < offset.Day(95)\n",
    "    end = dates.shift(-1)-dates < offset.Day(95)\n",
    "\n",
    "    start = dates[~start].values\n",
    "    end = dates[~end].values\n",
    "    \n",
    "    start = pd.PeriodIndex(start,freq='Q')\n",
    "    end = pd.PeriodIndex(end, freq='Q')\n",
    "\n",
    "    return list(zip(start,end))"
   ]
  },
  {
   "cell_type": "code",
   "execution_count": null,
   "metadata": {
    "scrolled": false
   },
   "outputs": [],
   "source": [
    "def count(df, name=None,freq='a'):\n",
    "    df['date'] = pd.Series(df.index)\n",
    "    if freq == 'q':\n",
    "        df = df.drop('indicator',axis=1).set_index('date')\n",
    "        df_year = df.apply(date_control_quarter)\n",
    "    elif freq == 'a':\n",
    "        df.date = df.date.dt.year\n",
    "        df = df.drop('indicator',axis=1).set_index('date')\n",
    "        df_year = df.apply(date_control)\n",
    "    else:\n",
    "        pass\n",
    "    if isinstance(df_year,pd.DataFrame):\n",
    "        df_year =df_year.loc[0]\n",
    "    df_result = pd.concat([df_year,df.count()],axis=1)\n",
    "    df_result.columns = ['start-end','total']\n",
    "    if name is not None:\n",
    "        df_result['name'] = name\n",
    "    return df_result"
   ]
  },
  {
   "cell_type": "code",
   "execution_count": null,
   "metadata": {},
   "outputs": [],
   "source": [
    "for name in data.indicator('wb').code:\n",
    "    count(data.read_wb(name)).to_csv('date_control/wb/{}.csv'.format(name))"
   ]
  },
  {
   "cell_type": "code",
   "execution_count": null,
   "metadata": {},
   "outputs": [],
   "source": [
    "for name in data.indicator('imf').code:\n",
    "    count(data.read_imf(name,'a'),name,'a').to_csv('date_control/imf/annually/{}.csv'.format(name))\n",
    "    count(data.read_imf(name,'q'),name,'q').to_csv('date_control/imf/quarterly/{}.csv'.format(name))"
   ]
  },
  {
   "cell_type": "code",
   "execution_count": null,
   "metadata": {},
   "outputs": [],
   "source": []
  },
  {
   "cell_type": "code",
   "execution_count": null,
   "metadata": {},
   "outputs": [],
   "source": [
    "df = data.read_wb('SP.POP.GROW')"
   ]
  },
  {
   "cell_type": "code",
   "execution_count": null,
   "metadata": {
    "scrolled": false
   },
   "outputs": [],
   "source": [
    "x=df.index.year.to_series()"
   ]
  },
  {
   "cell_type": "code",
   "execution_count": null,
   "metadata": {},
   "outputs": [],
   "source": [
    "x"
   ]
  },
  {
   "cell_type": "code",
   "execution_count": null,
   "metadata": {},
   "outputs": [],
   "source": []
  },
  {
   "cell_type": "code",
   "execution_count": null,
   "metadata": {},
   "outputs": [],
   "source": []
  },
  {
   "cell_type": "code",
   "execution_count": null,
   "metadata": {},
   "outputs": [],
   "source": [
    "df.apply(date_control_quarter).to_csv('asd.csv')"
   ]
  },
  {
   "cell_type": "code",
   "execution_count": null,
   "metadata": {},
   "outputs": [],
   "source": []
  },
  {
   "cell_type": "code",
   "execution_count": null,
   "metadata": {},
   "outputs": [],
   "source": []
  },
  {
   "cell_type": "code",
   "execution_count": null,
   "metadata": {},
   "outputs": [],
   "source": []
  },
  {
   "cell_type": "code",
   "execution_count": null,
   "metadata": {},
   "outputs": [],
   "source": []
  }
 ],
 "metadata": {
  "kernelspec": {
   "display_name": "Python 3",
   "language": "python",
   "name": "python3"
  },
  "language_info": {
   "codemirror_mode": {
    "name": "ipython",
    "version": 3
   },
   "file_extension": ".py",
   "mimetype": "text/x-python",
   "name": "python",
   "nbconvert_exporter": "python",
   "pygments_lexer": "ipython3",
   "version": "3.6.9"
  }
 },
 "nbformat": 4,
 "nbformat_minor": 4
}

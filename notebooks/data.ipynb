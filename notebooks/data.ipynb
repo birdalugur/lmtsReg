{
 "cells": [
  {
   "cell_type": "code",
   "execution_count": null,
   "metadata": {},
   "outputs": [],
   "source": [
    "import pandas as pd\n",
    "import numpy as np\n",
    "import os"
   ]
  },
  {
   "cell_type": "markdown",
   "metadata": {},
   "source": [
    "#### OECD VERİSİ -  PWT"
   ]
  },
  {
   "cell_type": "code",
   "execution_count": null,
   "metadata": {},
   "outputs": [],
   "source": [
    "def oecd():\n",
    "    data_oecd = pd.read_csv('data/DP_LIVE_19082020122503891.csv')\n",
    "\n",
    "    data_oecd=data_oecd.rename(columns={'TIME':'date'})\n",
    "\n",
    "    ### Frequency: Q (quarterly), Measure:  Index, Subject:  volidx Olanlar Seçiliyor\n",
    "    data_oecd= data_oecd[(data_oecd['FREQUENCY'] == 'Q') & (data_oecd['MEASURE'] == 'IDX') & (data_oecd['SUBJECT'] == 'VOLIDX')]\n",
    "\n",
    "    oecd=data_oecd.pivot(index='date',columns='LOCATION', values='Value')\n",
    "    oecd.columns.name=None\n",
    "    return oecd\n",
    "\n",
    "def pwt():\n",
    "    data_pwt = pd.read_excel('data/pwt91.xlsx',sheet_name='Data',usecols=['year','countrycode','rgdpo'])\n",
    "\n",
    "    data_pwt=data_pwt.rename(columns={'year':'date'})\n",
    "\n",
    "    pwt=data_pwt.pivot(index='date',columns='countrycode').droplevel(axis=1,level=0)\n",
    "    pwt.columns.name=None\n",
    "    return pwt"
   ]
  },
  {
   "cell_type": "markdown",
   "metadata": {},
   "source": [
    "#### EORA - WOID"
   ]
  },
  {
   "cell_type": "code",
   "execution_count": null,
   "metadata": {},
   "outputs": [],
   "source": [
    "def __read_eorawoid(path,rate_type,request_var,date=None):\n",
    "    sector_data = pd.read_csv(path, index_col=['type', 'year', 'country'])\n",
    "    if date is not None:\n",
    "        sector_data = sector_data[sector_data.index.get_level_values('year')>=date]\n",
    "\n",
    "    sector_data = sector_data.sum(axis=1)\n",
    "\n",
    "    sector_data = sector_data.groupby(level=['year', 'country'], group_keys=False).apply(lambda x: x / x.loc[rate_type])\n",
    "\n",
    "    requested_data = sector_data.xs(request_var, level='type').sort_index()\n",
    "\n",
    "    requested_data = requested_data.unstack()\n",
    "    return requested_data\n",
    "\n",
    "def from_eora(path = 'data/dataeora.csv',rate_type = 'gexp',request_var = 'gvc',date=None):\n",
    "    return __read_eorawoid(path,rate_type,request_var,date)\n",
    "\n",
    "def from_WOID(path = 'data/WOID_data.csv',rate_type = 'gexp',request_var = 'gvc',date=None):\n",
    "    return __read_eorawoid(path,rate_type,request_var,date)"
   ]
  },
  {
   "cell_type": "markdown",
   "metadata": {},
   "source": [
    "#### Indicator"
   ]
  },
  {
   "cell_type": "code",
   "execution_count": null,
   "metadata": {},
   "outputs": [],
   "source": [
    "def indicator(name):\n",
    "    if name == 'imf':\n",
    "        return __imf_indicator()\n",
    "    elif name == 'bl':\n",
    "        indicator = pd.read_csv('data/X/lee&lee/indicator.csv')\n",
    "    else:\n",
    "        path = 'data/X/{}/indicator.csv'.format(name)\n",
    "        indicator = pd.read_csv(path)    \n",
    "    return indicator"
   ]
  },
  {
   "cell_type": "code",
   "execution_count": null,
   "metadata": {},
   "outputs": [],
   "source": [
    "def __imf_indicator():\n",
    "    available = pd.read_csv('data/X/imf/annually.csv',usecols=['indicator'],squeeze=True).unique()\n",
    "\n",
    "    imf_indicator = pd.read_excel('data/X/imf/indicator.xlsx',sheet_name='IFS',skiprows=1,usecols=['Indicator Name','Indicator Code'])\n",
    "\n",
    "    imf_indicator = imf_indicator[imf_indicator['Indicator Code'].isin(available)]\n",
    "    \n",
    "    return imf_indicator"
   ]
  },
  {
   "cell_type": "markdown",
   "metadata": {},
   "source": [
    "#### IMF Data"
   ]
  },
  {
   "cell_type": "code",
   "execution_count": null,
   "metadata": {},
   "outputs": [],
   "source": [
    "def read_imf(code:str,frequency:str,date:int=None):\n",
    "    base_path = 'data/X/imf/{}.csv'\n",
    "    frequency = frequency.lower()\n",
    "    if frequency == 'q':\n",
    "        frequency = 'quarterly'\n",
    "    elif frequency.lower() == 'a':\n",
    "        frequency = 'annually'\n",
    "    else:\n",
    "        raise ValueError('frequency must be a (annualy) or q (quarterly)')\n",
    "        \n",
    "    path = base_path.format(frequency)\n",
    "    data = pd.read_csv(path)\n",
    "    if frequency == 'quarterly':\n",
    "        data['date'] = data['date'].str.split().apply(lambda x: pd.Timestamp('-'.join([x[1],x[0]])))\n",
    "    else:\n",
    "        data['date'] = pd.to_datetime(data.date.astype(str))\n",
    "        \n",
    "    if date is not None:\n",
    "        data = data[data.date>=str(date)]\n",
    "        \n",
    "    data = data[data.indicator == code].drop('indicator', axis=1).set_index('date')\n",
    "        \n",
    "    return data"
   ]
  },
  {
   "cell_type": "code",
   "execution_count": null,
   "metadata": {},
   "outputs": [],
   "source": [
    "def __concat_excel():\n",
    "    \"\"\"To concatenate data in the willconcat folder.\n",
    "    \"\"\"\n",
    "    \n",
    "    base_path = 'data/X/willconcat'\n",
    "    will_concat = list(map(lambda x : os.path.join(base_path,x ), os.listdir(base_path)))\n",
    "    df_list = []\n",
    "    for path in will_concat:\n",
    "        df_list.append(pd.read_excel(path,header=1))\n",
    "    data = pd.concat(df_list)\n",
    "    data = data.rename(columns={'Unnamed: 0':'date','Unnamed: 1':'indicator'})\n",
    "    return data"
   ]
  },
  {
   "cell_type": "markdown",
   "metadata": {},
   "source": [
    "#### WB Data"
   ]
  },
  {
   "cell_type": "code",
   "execution_count": null,
   "metadata": {},
   "outputs": [],
   "source": [
    "def read_wb(code:str, date=None):\n",
    "    base_path = 'data/X/wb/{}.csv'\n",
    "    path = base_path.format(code)\n",
    "    \n",
    "    data = pd.read_csv(path)\n",
    "\n",
    "    data.drop(data.tail(5).index,inplace=True)\n",
    "\n",
    "    data.rename(columns={'Time Code':'date','Series Code':'indicator'},inplace=True)\n",
    "\n",
    "    data['date'] = data['date'].apply(lambda x: ''.join([ch for ch in x if ch.isdigit()]))\n",
    "\n",
    "    data['date'] = pd.to_datetime(data.date.astype(str))\n",
    "\n",
    "    if date is not None:\n",
    "        data = data[data.date>=str(date)]\n",
    "        \n",
    "    data = data[data.indicator == code].drop('indicator', axis=1).set_index('date')\n",
    "    \n",
    "    return data"
   ]
  },
  {
   "cell_type": "markdown",
   "metadata": {},
   "source": [
    "#### Lee & Lee "
   ]
  },
  {
   "cell_type": "code",
   "execution_count": null,
   "metadata": {},
   "outputs": [],
   "source": [
    "def __country_codes():\n",
    "    codes = pd.read_html('https://www.iban.com/country-codes')[0][['Country','Alpha-3 code']]\n",
    "    \n",
    "    some_countries = ['united kingdom','philippines','republic of korea','taiwan',\n",
    "                    'czech republic','russian federation','dominican rep.',\n",
    "                    'venezuela','iran','syria','congo, d.r.','cote divoire',\n",
    "                    'gambia','niger', 'reunion','sudan', 'swaziland','netherlands','bolivia']\n",
    "    some_codes = ['GBR','PHL','KOR','TWN','CZE','RUS','DOM','VEN','IRN',\n",
    "                  'SYR','COD','CIV','GMB','NER','REU','SDN','SWZ','NLD','BOL']\n",
    "    \n",
    "    add= pd.DataFrame(list(zip(some_countries,some_codes)),columns = ['Country','Alpha-3 code'])\n",
    "\n",
    "    codes = codes.append(add)\n",
    "\n",
    "    codes.Country = codes.Country.str.lower()\n",
    "\n",
    "    codes = codes.set_index('Country').unstack().droplevel(0)\n",
    "    \n",
    "    return codes"
   ]
  },
  {
   "cell_type": "code",
   "execution_count": null,
   "metadata": {},
   "outputs": [],
   "source": [
    "def __lee_hc(date:int=None):\n",
    "    data = pd.read_excel('data/X/lee&lee/LeeLee_HC_MF1564 (1).xls',header=7)\n",
    "\n",
    "    data = data.dropna(subset=['Year','Population\\n(1000s)'])\n",
    "\n",
    "    data.loc[:,'Country'] = data['Country'].ffill().str.lower()\n",
    "    \n",
    "    data['Country'] = data['Country'].replace(__country_codes())\n",
    "    \n",
    "    data = data.rename(columns={'Age Group':'Age Group 1', 'Unnamed: 3':'Age Group 2'})\n",
    "\n",
    "    data = data.astype({'Year':int,'Age Group 1':int,'Age Group 2':int})\n",
    "    \n",
    "    data = data.rename(columns={'Year':'date'})\n",
    "\n",
    "    return data"
   ]
  },
  {
   "cell_type": "code",
   "execution_count": null,
   "metadata": {},
   "outputs": [],
   "source": [
    "def __lee_enrol(date:int=None):\n",
    "    data = pd.read_excel('data/X/lee&lee/LeeLee_enroll_MF (1).xls', header=7)\n",
    "\n",
    "    data = data.dropna(subset=['Year'])\n",
    "\n",
    "    data.loc[:,'Country'] = data['Country'].ffill().str.lower()\n",
    "    \n",
    "    data['Country'] = data['Country'].replace(__country_codes())\n",
    "\n",
    "    data = data.astype({'Year':int})\n",
    "        \n",
    "    data = data.rename(columns={'Year':'date'})\n",
    "        \n",
    "    return data"
   ]
  },
  {
   "cell_type": "code",
   "execution_count": null,
   "metadata": {},
   "outputs": [],
   "source": [
    "def __lee_attain(date:int=None, ):\n",
    "    data = pd.read_excel('data/X/lee&lee/LeeLee_attain_MF1564.xls',header=7).rename(columns={'Unnamed: 3':'Age Group 2'})\n",
    "\n",
    "    data = data.dropna(how='all')\n",
    "\n",
    "    data.loc[:,'Country'] = data['Country'].ffill().str.lower()\n",
    "\n",
    "    data['Country'] = data['Country'].replace(__country_codes())\n",
    "\n",
    "    data = data.astype({'Year':int})\n",
    "        \n",
    "    data = data.rename(columns={'Year':'date'})\n",
    "        \n",
    "    return data"
   ]
  },
  {
   "cell_type": "code",
   "execution_count": null,
   "metadata": {},
   "outputs": [],
   "source": [
    "def read_BL(code:str,variable:str,date:int=None):\n",
    "    if code == 'hc':\n",
    "        data = __lee_hc()\n",
    "    elif code == 'enrol':\n",
    "        data = __lee_enrol()\n",
    "    elif code == 'attain':\n",
    "        data = __lee_attain()\n",
    "    else:\n",
    "        raise ValueError(\"Invalid code parameter. Please pass one of the parameters 'hc', 'enrol', 'attain'.\")\n",
    "        \n",
    "    if date is not None:\n",
    "        data = data[data['date']>=date]\n",
    "        \n",
    "    data['Country'] = data['Country'].str.upper()\n",
    "    \n",
    "    data['date'] = pd.to_datetime(data.date.astype(str))\n",
    "        \n",
    "    data = data.pivot(index='date',columns='Country',values=variable)\n",
    "            \n",
    "    return data"
   ]
  }
 ],
 "metadata": {
  "kernelspec": {
   "display_name": "Python 3",
   "language": "python",
   "name": "python3"
  },
  "language_info": {
   "codemirror_mode": {
    "name": "ipython",
    "version": 3
   },
   "file_extension": ".py",
   "mimetype": "text/x-python",
   "name": "python",
   "nbconvert_exporter": "python",
   "pygments_lexer": "ipython3",
   "version": "3.6.9"
  }
 },
 "nbformat": 4,
 "nbformat_minor": 4
}

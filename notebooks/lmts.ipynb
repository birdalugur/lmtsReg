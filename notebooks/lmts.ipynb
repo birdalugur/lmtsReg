{
 "cells": [
  {
   "cell_type": "code",
   "execution_count": null,
   "metadata": {
    "id": "OrDY5UfYX5_i"
   },
   "outputs": [],
   "source": [
    "import os\n",
    "import inspect\n",
    "\n",
    "import pandas as pd\n",
    "import numpy as np\n",
    "from sklearn.linear_model import LinearRegression\n",
    "from sklearn.metrics import r2_score\n",
    "\n",
    "import plotly.express as px\n",
    "import plotly.offline as offline\n",
    "import plotly.graph_objects as go\n",
    "\n",
    "import ipynb\n",
    "import data"
   ]
  },
  {
   "cell_type": "code",
   "execution_count": null,
   "metadata": {},
   "outputs": [],
   "source": [
    "def retrieve_name(var):\n",
    "    \"\"\"\n",
    "    Getting the name of a variable as a string\"\"\"\n",
    "    \n",
    "    callers_local_vars = inspect.currentframe().f_back.f_locals.items()\n",
    "    return [var_name for var_name, var_val in callers_local_vars if var_val is var][0]"
   ]
  },
  {
   "cell_type": "code",
   "execution_count": null,
   "metadata": {},
   "outputs": [],
   "source": [
    "def ln_diff(data, country='USA'):\n",
    "    \"\"\"\n",
    "    ln_diff = ln(X) - ln(USA) and remove 'USA' column.\"\"\"\n",
    "    \n",
    "    ln_data = np.log(data)\n",
    "    ln_data = ln_data.sub(ln_data[country],axis=0)\n",
    "    return ln_data.drop(country,axis=1)"
   ]
  },
  {
   "cell_type": "code",
   "execution_count": null,
   "metadata": {},
   "outputs": [],
   "source": [
    "def constrain(data,n):\n",
    "    \"\"\"\n",
    "    n'den veri içeren sütunları kaldır.\"\"\"\n",
    "    \n",
    "    data = data[data.columns[data.count() >= n]]\n",
    "    return data"
   ]
  },
  {
   "cell_type": "code",
   "execution_count": null,
   "metadata": {},
   "outputs": [],
   "source": [
    "def get_d_values(file):\n",
    "    \"\"\"\n",
    "    Run the R script and get the results.\"\"\"\n",
    "    os.system('Rscript dvals.R {}'.format(file))\n",
    "    return pd.read_csv('d_values.csv',index_col=0)"
   ]
  },
  {
   "cell_type": "code",
   "execution_count": null,
   "metadata": {},
   "outputs": [],
   "source": [
    "# d'leri hesapla\n",
    "df = data.pwt()\n",
    "df = ln_diff(df)\n",
    "df = constrain(df,48)\n",
    "df.to_csv('lndiff.csv')\n",
    "d_values = get_d_values('lndiff.csv')"
   ]
  },
  {
   "cell_type": "code",
   "execution_count": null,
   "metadata": {},
   "outputs": [],
   "source": [
    "# data.indicator('imf')\n",
    "# data.indicator('wb')\n",
    "# data.indicator('bl')"
   ]
  },
  {
   "cell_type": "code",
   "execution_count": null,
   "metadata": {
    "scrolled": false
   },
   "outputs": [],
   "source": [
    "# Read X values\n",
    "eora = data.from_eora(date=1950)\n",
    "woid = data.from_WOID(date=1950)\n",
    "\n",
    "imfdata = data.read_imf('BFXF_BP6_USD','a',date=1950)\n",
    "wbdata = data.read_wb('SP.POP.GROW',date=1950)\n",
    "\n",
    "bldata = data.read_BL(code='attain',variable='No Schooling',date=1950)\n",
    "\n",
    "\n",
    "# ln(x)-ln(usa) farklarının hesaplanmasını istediğimiz değişkenleri burada belirtiyloruz\n",
    "ln_list = [bldata, wbdata]"
   ]
  },
  {
   "cell_type": "code",
   "execution_count": null,
   "metadata": {},
   "outputs": [],
   "source": [
    "for var in ln_list:\n",
    "    print(retrieve_name(var))\n",
    "    globals()[retrieve_name(var)] = ln_diff(var)"
   ]
  },
  {
   "cell_type": "code",
   "execution_count": null,
   "metadata": {},
   "outputs": [],
   "source": [
    "# Select X and y\n",
    "X = [eora,woid,wbdata]\n",
    "\n",
    "y = d_values.elw_m"
   ]
  },
  {
   "cell_type": "code",
   "execution_count": null,
   "metadata": {
    "scrolled": true
   },
   "outputs": [],
   "source": [
    "X = list(map(lambda x: x.mean(),X))\n",
    "X=pd.concat(X,axis=1).dropna()\n",
    "countries = y.index.intersection(X.index)\n",
    "\n",
    "X = X.loc[countries]\n",
    "y = y[countries]"
   ]
  },
  {
   "cell_type": "code",
   "execution_count": null,
   "metadata": {
    "scrolled": true
   },
   "outputs": [],
   "source": [
    "# Test Verisi\n",
    "test = X.copy()\n",
    "average = X.mean()[1:]\n",
    "for i in average.index:\n",
    "    test[i] = average[i]\n",
    "    \n",
    "test = test.sort_values(0)"
   ]
  },
  {
   "cell_type": "code",
   "execution_count": null,
   "metadata": {},
   "outputs": [],
   "source": [
    "# Lineer Regresyon kullanarak tahmin\n",
    "regr = LinearRegression()\n",
    "regr.fit(X,y)\n",
    "test['y_pred'] = regr.predict(test)"
   ]
  },
  {
   "cell_type": "code",
   "execution_count": null,
   "metadata": {},
   "outputs": [],
   "source": [
    "coefficients = regr.coef_\n",
    "intercept = regr.intercept_\n",
    "r_square = r2_score(y.reindex(test.index),test['y_pred'])\n",
    "print('coefficients:\\n',coefficients)\n",
    "print('intercept:\\n',intercept)\n",
    "print('r square:\\n',r_square)"
   ]
  },
  {
   "cell_type": "code",
   "execution_count": null,
   "metadata": {},
   "outputs": [],
   "source": [
    "# PLOT\n",
    "fig = px.scatter(x=X[0], y=y,text=countries)\n",
    "fig.add_traces(go.Scatter(x=test[0], y=test['y_pred'], name='Regression Fit'))\n",
    "offline.plot(fig)"
   ]
  }
 ],
 "metadata": {
  "colab": {
   "collapsed_sections": [],
   "name": "Dplive.ipynb",
   "provenance": []
  },
  "kernelspec": {
   "display_name": "Python 3",
   "language": "python",
   "name": "python3"
  },
  "language_info": {
   "codemirror_mode": {
    "name": "ipython",
    "version": 3
   },
   "file_extension": ".py",
   "mimetype": "text/x-python",
   "name": "python",
   "nbconvert_exporter": "python",
   "pygments_lexer": "ipython3",
   "version": "3.6.9"
  }
 },
 "nbformat": 4,
 "nbformat_minor": 1
}
